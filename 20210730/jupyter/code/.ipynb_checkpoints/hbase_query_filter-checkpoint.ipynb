{
 "cells": [
  {
   "cell_type": "code",
   "execution_count": 2,
   "id": "96fbbeb2",
   "metadata": {},
   "outputs": [],
   "source": [
    "import happybase\n",
    " \n",
    "connection = happybase.Connection('hbase-master',autoconnect=True)"
   ]
  },
  {
   "cell_type": "code",
   "execution_count": 3,
   "id": "864b83fd",
   "metadata": {},
   "outputs": [],
   "source": [
    "#建立一個table\n",
    "connection.create_table(\n",
    "    'people',\n",
    "    {\n",
    "        'profile':dict()\n",
    "    }\n",
    ")"
   ]
  },
  {
   "cell_type": "code",
   "execution_count": 4,
   "id": "cff8573c",
   "metadata": {},
   "outputs": [],
   "source": [
    "#建立連線\n",
    "table = connection.table('people')"
   ]
  },
  {
   "cell_type": "code",
   "execution_count": 5,
   "id": "8dbaa06b",
   "metadata": {},
   "outputs": [],
   "source": [
    "#資料批次寫入\n",
    "with table.batch() as bat:\n",
    "    bat.put('Candy', {'profile:gender': 'female', 'profile:age': '25', 'profile:addr': 'Taipei'})\n",
    "    bat.put('Judy', {'profile:gender': 'female', 'profile:age': '34', 'profile:addr': 'Taipei'})\n",
    "    bat.put('Tracy', {'profile:gender': 'female', 'profile:age': '18', 'profile:addr': 'Kaohsiung'})\n",
    "    bat.put('Harrison', {'profile:gender': 'male', 'profile:age': '56', 'profile:addr': 'Tainan'})\n",
    "    bat.put('Peter', {'profile:gender': 'male', 'profile:age': '54', 'profile:addr': 'Hualien'})\n",
    "    bat.put('Berry', {'profile:gender': 'female', 'profile:age': '65', 'profile:addr': 'Taichuang'})"
   ]
  },
  {
   "cell_type": "code",
   "execution_count": 7,
   "id": "de6a9a95",
   "metadata": {},
   "outputs": [
    {
     "name": "stdout",
     "output_type": "stream",
     "text": [
      "b'Berry' {b'profile:addr': b'Taichuang', b'profile:age': b'65', b'profile:gender': b'female'}\n",
      "b'Candy' {b'profile:addr': b'Taipei', b'profile:age': b'25', b'profile:gender': b'female'}\n",
      "b'Harrison' {b'profile:addr': b'Tainan', b'profile:age': b'56', b'profile:gender': b'male'}\n",
      "b'Judy' {b'profile:addr': b'Taipei', b'profile:age': b'34', b'profile:gender': b'female'}\n"
     ]
    }
   ],
   "source": [
    "#查詢addr為Tai* \n",
    "query_str = \"SingleColumnValueFilter ('profile', 'addr', =, 'substring:Tai')\"\n",
    "query = table.scan(filter=query_str, limit=10)\n",
    "for key, value in query:\n",
    "    print(key, value)"
   ]
  },
  {
   "cell_type": "code",
   "execution_count": 8,
   "id": "25e2b5d9",
   "metadata": {},
   "outputs": [
    {
     "name": "stdout",
     "output_type": "stream",
     "text": [
      "b'Berry' {b'profile:addr': b'Taichuang', b'profile:age': b'65', b'profile:gender': b'female'}\n",
      "b'Harrison' {b'profile:addr': b'Tainan', b'profile:age': b'56', b'profile:gender': b'male'}\n",
      "b'Judy' {b'profile:addr': b'Taipei', b'profile:age': b'34', b'profile:gender': b'female'}\n",
      "b'Peter' {b'profile:addr': b'Hualien', b'profile:age': b'54', b'profile:gender': b'male'}\n"
     ]
    }
   ],
   "source": [
    "#查詢年紀>25\n",
    "query_str = \"SingleColumnValueFilter('profile', 'age', >, 'binary:25')\"\n",
    "query = table.scan(filter=query_str, limit=10)\n",
    "for key, value in query:\n",
    "    print(key, value)"
   ]
  },
  {
   "cell_type": "code",
   "execution_count": 9,
   "id": "8042a49b",
   "metadata": {},
   "outputs": [
    {
     "name": "stdout",
     "output_type": "stream",
     "text": [
      "b'Candy' {b'profile:addr': b'Taipei', b'profile:age': b'25', b'profile:gender': b'female'}\n"
     ]
    }
   ],
   "source": [
    "#查詢addr為Tai*且年齡為25\n",
    "query = table.scan(filter=\"SingleColumnValueFilter('profile', 'addr', =, 'substring:Tai')\" \\\n",
    "                  and \"SingleColumnValueFilter('profile', 'age', =, 'binary:25')\", limit=20)\n",
    "for key, value in query:\n",
    "    print(key, value)"
   ]
  },
  {
   "cell_type": "code",
   "execution_count": 11,
   "id": "bf9869b1",
   "metadata": {},
   "outputs": [
    {
     "name": "stdout",
     "output_type": "stream",
     "text": [
      "sum age: 209\n"
     ]
    }
   ],
   "source": [
    "#查詢addr為Tai*且年齡>25\n",
    "#將符合者的年齡相加起來\n",
    "query = table.scan(columns=[b'profile:gender', b'profile:age'], \\\n",
    "           filter=\"SingleColumnValueFilter('profile', 'addr', =, 'substring:Tai')\" \\\n",
    "              and \"SingleColumnValueFilter('profile', 'age', >, 'binary:25')\", limit=20)\n",
    "#for key, value in query:\n",
    "#    print(key, value)\n",
    "    \n",
    "#求和\n",
    "sum = 0\n",
    "for k, d in query:\n",
    "    age = d[b'profile:age']\n",
    "    sum = sum + int(age)\n",
    "print(\"sum age:\", sum)"
   ]
  },
  {
   "cell_type": "code",
   "execution_count": 12,
   "id": "715547ef",
   "metadata": {},
   "outputs": [
    {
     "name": "stdout",
     "output_type": "stream",
     "text": [
      "b'Berry' b'female'\n",
      "b'Candy' b'female'\n",
      "b'Harrison' b'male'\n",
      "b'Judy' b'female'\n",
      "b'Peter' b'male'\n",
      "b'Tracy' b'female'\n",
      "4\n"
     ]
    }
   ],
   "source": [
    "#查詢addr為Tai*且性別為女性\n",
    "#計算符合者數量\n",
    "query = table.scan(columns=[b'profile:gender', b'profile:age'], filter=\"SingleColumnValueFilter('profile', 'addr', =, 'substring:Tai')\") \n",
    "count = 0\n",
    "for k, d in query:\n",
    "    print(k, d[b'profile:gender'])\n",
    "    if (str(d[b'profile:gender'], 'utf-8')) == 'female':\n",
    "        count = count +1\n",
    "print(count)"
   ]
  },
  {
   "cell_type": "code",
   "execution_count": 13,
   "id": "ba6ba3a8",
   "metadata": {},
   "outputs": [],
   "source": [
    "connection.close()"
   ]
  },
  {
   "cell_type": "code",
   "execution_count": null,
   "id": "3d06e566",
   "metadata": {},
   "outputs": [],
   "source": []
  }
 ],
 "metadata": {
  "kernelspec": {
   "display_name": "Python 3",
   "language": "python",
   "name": "python3"
  },
  "language_info": {
   "codemirror_mode": {
    "name": "ipython",
    "version": 3
   },
   "file_extension": ".py",
   "mimetype": "text/x-python",
   "name": "python",
   "nbconvert_exporter": "python",
   "pygments_lexer": "ipython3",
   "version": "3.9.5"
  }
 },
 "nbformat": 4,
 "nbformat_minor": 5
}
