{
 "cells": [
  {
   "cell_type": "code",
   "execution_count": 4,
   "id": "984558d3",
   "metadata": {},
   "outputs": [
    {
     "name": "stdout",
     "output_type": "stream",
     "text": [
      "Collecting happybase\n",
      "  Downloading happybase-1.2.0.tar.gz (40 kB)\n",
      "\u001b[K     |████████████████████████████████| 40 kB 1.4 MB/s eta 0:00:01\n",
      "\u001b[?25hRequirement already satisfied: six in /opt/conda/lib/python3.9/site-packages (from happybase) (1.16.0)\n",
      "Collecting thriftpy2>=0.4\n",
      "  Downloading thriftpy2-0.4.14.tar.gz (361 kB)\n",
      "\u001b[K     |████████████████████████████████| 361 kB 1.3 MB/s eta 0:00:01\n",
      "\u001b[?25hCollecting ply<4.0,>=3.4\n",
      "  Downloading ply-3.11-py2.py3-none-any.whl (49 kB)\n",
      "\u001b[K     |████████████████████████████████| 49 kB 3.2 MB/s eta 0:00:01\n",
      "\u001b[?25hBuilding wheels for collected packages: happybase, thriftpy2\n",
      "  Building wheel for happybase (setup.py) ... \u001b[?25ldone\n",
      "\u001b[?25h  Created wheel for happybase: filename=happybase-1.2.0-py2.py3-none-any.whl size=26606 sha256=dbf9270da69aff825c30582378cafb3ff6d287edbf5e82568a61614e3ed75007\n",
      "  Stored in directory: /home/jovyan/.cache/pip/wheels/9e/00/b2/3a44a68da0a23b4f274c24f3bda10e84283d63fb8b8dfb3709\n",
      "  Building wheel for thriftpy2 (setup.py) ... \u001b[?25ldone\n",
      "\u001b[?25h  Created wheel for thriftpy2: filename=thriftpy2-0.4.14-cp39-cp39-linux_x86_64.whl size=507857 sha256=60493510d1ae2e5c329e0ec8f27eff47f247c00bc31aa72701ff2bb476ce7f64\n",
      "  Stored in directory: /home/jovyan/.cache/pip/wheels/a1/97/73/c37a0f04483972cb2ca32764534da03dcfec3b2f0f8855a87d\n",
      "Successfully built happybase thriftpy2\n",
      "Installing collected packages: ply, thriftpy2, happybase\n",
      "Successfully installed happybase-1.2.0 ply-3.11 thriftpy2-0.4.14\n"
     ]
    }
   ],
   "source": [
    "#HappyBase is a developer-friendly Python library to interact with Apache HBas\n",
    "\n",
    "!pip install happybase"
   ]
  },
  {
   "cell_type": "code",
   "execution_count": 5,
   "id": "d8643de9",
   "metadata": {},
   "outputs": [
    {
     "name": "stdout",
     "output_type": "stream",
     "text": [
      "[b'my_table', b'people']\n"
     ]
    }
   ],
   "source": [
    "import happybase\n",
    "\n",
    "#與hbase-master容器連線\n",
    "connection = happybase.Connection('hbase-master')\n",
    "print(connection.tables())"
   ]
  },
  {
   "cell_type": "code",
   "execution_count": 6,
   "id": "f9874766",
   "metadata": {},
   "outputs": [
    {
     "ename": "AlreadyExists",
     "evalue": "AlreadyExists(message=b'table name already in use')",
     "output_type": "error",
     "traceback": [
      "\u001b[0;31m---------------------------------------------------------------------------\u001b[0m",
      "\u001b[0;31mAlreadyExists\u001b[0m                             Traceback (most recent call last)",
      "\u001b[0;32m<ipython-input-6-473ce187dae6>\u001b[0m in \u001b[0;36m<module>\u001b[0;34m\u001b[0m\n\u001b[1;32m      1\u001b[0m \u001b[0;31m#建立一個table\u001b[0m\u001b[0;34m\u001b[0m\u001b[0;34m\u001b[0m\u001b[0;34m\u001b[0m\u001b[0m\n\u001b[0;32m----> 2\u001b[0;31m connection.create_table(\n\u001b[0m\u001b[1;32m      3\u001b[0m     \u001b[0;34m'my_table'\u001b[0m\u001b[0;34m,\u001b[0m\u001b[0;34m\u001b[0m\u001b[0;34m\u001b[0m\u001b[0m\n\u001b[1;32m      4\u001b[0m     {\n\u001b[1;32m      5\u001b[0m         \u001b[0;34m'cf1'\u001b[0m\u001b[0;34m:\u001b[0m \u001b[0mdict\u001b[0m\u001b[0;34m(\u001b[0m\u001b[0mmax_versions\u001b[0m\u001b[0;34m=\u001b[0m\u001b[0;36m10\u001b[0m\u001b[0;34m)\u001b[0m\u001b[0;34m,\u001b[0m \u001b[0;31m#版本保留10個\u001b[0m\u001b[0;34m\u001b[0m\u001b[0;34m\u001b[0m\u001b[0m\n",
      "\u001b[0;32m/opt/conda/lib/python3.9/site-packages/happybase/connection.py\u001b[0m in \u001b[0;36mcreate_table\u001b[0;34m(self, name, families)\u001b[0m\n\u001b[1;32m    307\u001b[0m             \u001b[0mcolumn_descriptors\u001b[0m\u001b[0;34m.\u001b[0m\u001b[0mappend\u001b[0m\u001b[0;34m(\u001b[0m\u001b[0mColumnDescriptor\u001b[0m\u001b[0;34m(\u001b[0m\u001b[0;34m**\u001b[0m\u001b[0mkwargs\u001b[0m\u001b[0;34m)\u001b[0m\u001b[0;34m)\u001b[0m\u001b[0;34m\u001b[0m\u001b[0;34m\u001b[0m\u001b[0m\n\u001b[1;32m    308\u001b[0m \u001b[0;34m\u001b[0m\u001b[0m\n\u001b[0;32m--> 309\u001b[0;31m         \u001b[0mself\u001b[0m\u001b[0;34m.\u001b[0m\u001b[0mclient\u001b[0m\u001b[0;34m.\u001b[0m\u001b[0mcreateTable\u001b[0m\u001b[0;34m(\u001b[0m\u001b[0mname\u001b[0m\u001b[0;34m,\u001b[0m \u001b[0mcolumn_descriptors\u001b[0m\u001b[0;34m)\u001b[0m\u001b[0;34m\u001b[0m\u001b[0;34m\u001b[0m\u001b[0m\n\u001b[0m\u001b[1;32m    310\u001b[0m \u001b[0;34m\u001b[0m\u001b[0m\n\u001b[1;32m    311\u001b[0m     \u001b[0;32mdef\u001b[0m \u001b[0mdelete_table\u001b[0m\u001b[0;34m(\u001b[0m\u001b[0mself\u001b[0m\u001b[0;34m,\u001b[0m \u001b[0mname\u001b[0m\u001b[0;34m,\u001b[0m \u001b[0mdisable\u001b[0m\u001b[0;34m=\u001b[0m\u001b[0;32mFalse\u001b[0m\u001b[0;34m)\u001b[0m\u001b[0;34m:\u001b[0m\u001b[0;34m\u001b[0m\u001b[0;34m\u001b[0m\u001b[0m\n",
      "\u001b[0;32m/opt/conda/lib/python3.9/site-packages/thriftpy2/thrift.py\u001b[0m in \u001b[0;36m_req\u001b[0;34m(self, _api, *args, **kwargs)\u001b[0m\n\u001b[1;32m    217\u001b[0m         \u001b[0;31m# wait result only if non-oneway\u001b[0m\u001b[0;34m\u001b[0m\u001b[0;34m\u001b[0m\u001b[0;34m\u001b[0m\u001b[0m\n\u001b[1;32m    218\u001b[0m         \u001b[0;32mif\u001b[0m \u001b[0;32mnot\u001b[0m \u001b[0mgetattr\u001b[0m\u001b[0;34m(\u001b[0m\u001b[0mresult_cls\u001b[0m\u001b[0;34m,\u001b[0m \u001b[0;34m\"oneway\"\u001b[0m\u001b[0;34m)\u001b[0m\u001b[0;34m:\u001b[0m\u001b[0;34m\u001b[0m\u001b[0;34m\u001b[0m\u001b[0m\n\u001b[0;32m--> 219\u001b[0;31m             \u001b[0;32mreturn\u001b[0m \u001b[0mself\u001b[0m\u001b[0;34m.\u001b[0m\u001b[0m_recv\u001b[0m\u001b[0;34m(\u001b[0m\u001b[0m_api\u001b[0m\u001b[0;34m)\u001b[0m\u001b[0;34m\u001b[0m\u001b[0;34m\u001b[0m\u001b[0m\n\u001b[0m\u001b[1;32m    220\u001b[0m \u001b[0;34m\u001b[0m\u001b[0m\n\u001b[1;32m    221\u001b[0m     \u001b[0;32mdef\u001b[0m \u001b[0m_send\u001b[0m\u001b[0;34m(\u001b[0m\u001b[0mself\u001b[0m\u001b[0;34m,\u001b[0m \u001b[0m_api\u001b[0m\u001b[0;34m,\u001b[0m \u001b[0;34m**\u001b[0m\u001b[0mkwargs\u001b[0m\u001b[0;34m)\u001b[0m\u001b[0;34m:\u001b[0m\u001b[0;34m\u001b[0m\u001b[0;34m\u001b[0m\u001b[0m\n",
      "\u001b[0;32m/opt/conda/lib/python3.9/site-packages/thriftpy2/thrift.py\u001b[0m in \u001b[0;36m_recv\u001b[0;34m(self, _api)\u001b[0m\n\u001b[1;32m    249\u001b[0m         \u001b[0;32mfor\u001b[0m \u001b[0mk\u001b[0m\u001b[0;34m,\u001b[0m \u001b[0mv\u001b[0m \u001b[0;32min\u001b[0m \u001b[0mresult\u001b[0m\u001b[0;34m.\u001b[0m\u001b[0m__dict__\u001b[0m\u001b[0;34m.\u001b[0m\u001b[0mitems\u001b[0m\u001b[0;34m(\u001b[0m\u001b[0;34m)\u001b[0m\u001b[0;34m:\u001b[0m\u001b[0;34m\u001b[0m\u001b[0;34m\u001b[0m\u001b[0m\n\u001b[1;32m    250\u001b[0m             \u001b[0;32mif\u001b[0m \u001b[0mk\u001b[0m \u001b[0;34m!=\u001b[0m \u001b[0;34m\"success\"\u001b[0m \u001b[0;32mand\u001b[0m \u001b[0mv\u001b[0m\u001b[0;34m:\u001b[0m\u001b[0;34m\u001b[0m\u001b[0;34m\u001b[0m\u001b[0m\n\u001b[0;32m--> 251\u001b[0;31m                 \u001b[0;32mraise\u001b[0m \u001b[0mv\u001b[0m\u001b[0;34m\u001b[0m\u001b[0;34m\u001b[0m\u001b[0m\n\u001b[0m\u001b[1;32m    252\u001b[0m \u001b[0;34m\u001b[0m\u001b[0m\n\u001b[1;32m    253\u001b[0m         \u001b[0;31m# no throws & not void api\u001b[0m\u001b[0;34m\u001b[0m\u001b[0;34m\u001b[0m\u001b[0;34m\u001b[0m\u001b[0m\n",
      "\u001b[0;31mAlreadyExists\u001b[0m: AlreadyExists(message=b'table name already in use')"
     ]
    }
   ],
   "source": [
    "#建立一個table\n",
    "connection.create_table(\n",
    "    'my_table',\n",
    "    {\n",
    "        'cf1': dict(max_versions=10), #版本保留10個\n",
    "        'cf2': dict(max_versions=1, block_cache_enabled=False), #不進行緩存\n",
    "        'cf3': dict()  #使用預設值\n",
    "    }\n",
    ")"
   ]
  },
  {
   "cell_type": "code",
   "execution_count": 8,
   "id": "51e3a6e8",
   "metadata": {},
   "outputs": [
    {
     "name": "stdout",
     "output_type": "stream",
     "text": [
      "[b'my_table', b'people']\n"
     ]
    }
   ],
   "source": [
    "print(connection.tables())"
   ]
  },
  {
   "cell_type": "code",
   "execution_count": 9,
   "id": "3c0c9226",
   "metadata": {},
   "outputs": [],
   "source": [
    "#建立連線\n",
    "table = connection.table('my_table')"
   ]
  },
  {
   "cell_type": "code",
   "execution_count": 10,
   "id": "18301054",
   "metadata": {},
   "outputs": [],
   "source": [
    "#若RowKey已經存在，就會變成更新資料\n",
    "\n",
    "sensor1 = {'cf1:temperature': '36.5', 'cf1:humidity': '56', 'cf1:vibration': '265'}\n",
    "sensor2 = {'cf1:temperature': '36.7', 'cf1:humidity': '59', 'cf1:vibration': '287'}\n",
    "sensor3 = {'cf1:temperature': '36.8', 'cf1:humidity': '57', 'cf1:vibration': '289'}\n",
    "sensor4 = {'cf2:voltage': '220', 'cf2:current': '6'}\n",
    "\n",
    "#這樣會put四次\n",
    "table.put(row='machine1', data=sensor1)\n",
    "table.put(row='machine2', data=sensor2)\n",
    "table.put(row='machine3', data=sensor3)\n",
    "table.put(row='machine4', data=sensor4)"
   ]
  },
  {
   "cell_type": "code",
   "execution_count": 11,
   "id": "9bdb8491",
   "metadata": {},
   "outputs": [
    {
     "name": "stdout",
     "output_type": "stream",
     "text": [
      "b'machine1' {b'cf1:humidity': b'56', b'cf1:temperature': b'36.5', b'cf1:vibration': b'265'}\n",
      "b'machine2' {b'cf1:humidity': b'59', b'cf1:temperature': b'36.7', b'cf1:vibration': b'287'}\n",
      "b'machine3' {b'cf1:humidity': b'57', b'cf1:temperature': b'36.8', b'cf1:vibration': b'289'}\n",
      "b'machine4' {b'cf2:current': b'6', b'cf2:voltage': b'220'}\n",
      "b'machine6' {b'cf1:temperature': b'37', b'cf2:current': b'8', b'cf2:humidity': b'55'}\n",
      "b'machine7' {b'cf2:humidity': b'45', b'cf2:voltage': b'110'}\n"
     ]
    }
   ],
   "source": [
    "#查看\n",
    "for key, value in table.scan():\n",
    "    print(key, value)"
   ]
  },
  {
   "cell_type": "code",
   "execution_count": 12,
   "id": "8945ede5",
   "metadata": {},
   "outputs": [],
   "source": [
    "#批次寫入\n",
    "bat = table.batch()\n",
    "bat.put('machine5', {'cf1:temperature': '37', 'cf2:humidity': '55', 'cf2:voltage': '220'})\n",
    "bat.put('machine6', {'cf1:temperature': '37', 'cf2:humidity': '55', 'cf2:current': '8'})\n",
    "bat.send()"
   ]
  },
  {
   "cell_type": "code",
   "execution_count": 13,
   "id": "0c476b4e",
   "metadata": {},
   "outputs": [
    {
     "name": "stdout",
     "output_type": "stream",
     "text": [
      "b'machine1' {b'cf1:humidity': b'56', b'cf1:temperature': b'36.5', b'cf1:vibration': b'265'}\n",
      "b'machine2' {b'cf1:humidity': b'59', b'cf1:temperature': b'36.7', b'cf1:vibration': b'287'}\n",
      "b'machine3' {b'cf1:humidity': b'57', b'cf1:temperature': b'36.8', b'cf1:vibration': b'289'}\n",
      "b'machine4' {b'cf2:current': b'6', b'cf2:voltage': b'220'}\n",
      "b'machine5' {b'cf1:temperature': b'37', b'cf2:humidity': b'55', b'cf2:voltage': b'220'}\n",
      "b'machine6' {b'cf1:temperature': b'37', b'cf2:current': b'8', b'cf2:humidity': b'55'}\n",
      "b'machine7' {b'cf2:humidity': b'45', b'cf2:voltage': b'110'}\n"
     ]
    }
   ],
   "source": [
    "#查看\n",
    "for key, value in table.scan():\n",
    "    print(key, value)"
   ]
  },
  {
   "cell_type": "code",
   "execution_count": 14,
   "id": "b66a7244",
   "metadata": {},
   "outputs": [],
   "source": [
    "#刪除\n",
    "with table.batch() as bat:\n",
    "    bat.put('machine7', {'cf1:temperature': '39', 'cf2:humidity': '45', 'cf2:voltage': '110'})\n",
    "    bat.delete('machine5')"
   ]
  },
  {
   "cell_type": "code",
   "execution_count": 15,
   "id": "20093f00",
   "metadata": {},
   "outputs": [
    {
     "name": "stdout",
     "output_type": "stream",
     "text": [
      "b'machine1' {b'cf1:humidity': b'56', b'cf1:temperature': b'36.5', b'cf1:vibration': b'265'}\n",
      "b'machine2' {b'cf1:humidity': b'59', b'cf1:temperature': b'36.7', b'cf1:vibration': b'287'}\n",
      "b'machine3' {b'cf1:humidity': b'57', b'cf1:temperature': b'36.8', b'cf1:vibration': b'289'}\n",
      "b'machine4' {b'cf2:current': b'6', b'cf2:voltage': b'220'}\n",
      "b'machine6' {b'cf1:temperature': b'37', b'cf2:current': b'8', b'cf2:humidity': b'55'}\n",
      "b'machine7' {b'cf1:temperature': b'39', b'cf2:humidity': b'45', b'cf2:voltage': b'110'}\n"
     ]
    }
   ],
   "source": [
    "#查看\n",
    "for key, value in table.scan():\n",
    "    print(key, value)"
   ]
  },
  {
   "cell_type": "code",
   "execution_count": 16,
   "id": "514a2144",
   "metadata": {},
   "outputs": [
    {
     "name": "stdout",
     "output_type": "stream",
     "text": [
      "b'machine3' {b'cf1:humidity': b'57', b'cf1:temperature': b'36.8', b'cf1:vibration': b'289'}\n",
      "b'machine4' {b'cf2:current': b'6', b'cf2:voltage': b'220'}\n",
      "b'machine6' {b'cf1:temperature': b'37', b'cf2:current': b'8', b'cf2:humidity': b'55'}\n",
      "b'machine7' {b'cf1:temperature': b'39', b'cf2:humidity': b'45', b'cf2:voltage': b'110'}\n"
     ]
    }
   ],
   "source": [
    "#通過row_start引數來設定開始掃描的RowKey\n",
    "for key, value in table.scan(row_start='machine3'):\n",
    "    print(key, value)"
   ]
  },
  {
   "cell_type": "code",
   "execution_count": 17,
   "id": "6e4dff56",
   "metadata": {},
   "outputs": [
    {
     "name": "stdout",
     "output_type": "stream",
     "text": [
      "b'machine1' {b'cf1:humidity': b'56', b'cf1:temperature': b'36.5', b'cf1:vibration': b'265'}\n",
      "b'machine2' {b'cf1:humidity': b'59', b'cf1:temperature': b'36.7', b'cf1:vibration': b'287'}\n"
     ]
    }
   ],
   "source": [
    "#通過row_stop引數來設定結束掃描的RowKey\n",
    "for key, value in table.scan(row_stop='machine3'):\n",
    "    print(key, value)"
   ]
  },
  {
   "cell_type": "code",
   "execution_count": 18,
   "id": "349fba5f",
   "metadata": {},
   "outputs": [
    {
     "name": "stdout",
     "output_type": "stream",
     "text": [
      "b'machine1' {b'cf1:humidity': b'56', b'cf1:temperature': b'36.5', b'cf1:vibration': b'265'}\n",
      "b'machine2' {b'cf1:humidity': b'59', b'cf1:temperature': b'36.7', b'cf1:vibration': b'287'}\n",
      "b'machine3' {b'cf1:humidity': b'57', b'cf1:temperature': b'36.8', b'cf1:vibration': b'289'}\n",
      "b'machine4' {b'cf2:current': b'6', b'cf2:voltage': b'220'}\n"
     ]
    }
   ],
   "source": [
    "#通過row_start和row_stop引數來設定開始和結束掃描的RowKey\n",
    "for key, value in table.scan(row_start='machine1', row_stop='machine5'):\n",
    "    print(key, value)"
   ]
  },
  {
   "cell_type": "code",
   "execution_count": 19,
   "id": "6329d910",
   "metadata": {},
   "outputs": [
    {
     "data": {
      "text/plain": [
       "{b'cf1:humidity': b'56', b'cf1:temperature': b'36.5', b'cf1:vibration': b'265'}"
      ]
     },
     "execution_count": 19,
     "metadata": {},
     "output_type": "execute_result"
    }
   ],
   "source": [
    "#查看資料\n",
    "row = table.row('machine1')\n",
    "res=row\n",
    "res"
   ]
  },
  {
   "cell_type": "code",
   "execution_count": 20,
   "id": "0666492c",
   "metadata": {},
   "outputs": [
    {
     "name": "stdout",
     "output_type": "stream",
     "text": [
      "56\n"
     ]
    }
   ],
   "source": [
    "#抓出資料\n",
    "byte_humidity=res[b'cf1:humidity']\n",
    "\n",
    "#將byte轉為string\n",
    "encoding = 'utf-8'\n",
    "humidity=str(byte_humidity, encoding)\n",
    "print(humidity)"
   ]
  },
  {
   "cell_type": "code",
   "execution_count": 21,
   "id": "9b8f76b4",
   "metadata": {},
   "outputs": [
    {
     "name": "stdout",
     "output_type": "stream",
     "text": [
      "{b'machine1': {b'cf1:humidity': b'56', b'cf1:temperature': b'36.5', b'cf1:vibration': b'265'}, b'machine2': {b'cf1:humidity': b'59', b'cf1:temperature': b'36.7', b'cf1:vibration': b'287'}}\n"
     ]
    }
   ],
   "source": [
    "#查看多筆資料\n",
    "rows = dict(table.rows(['machine1', 'machine2']))\n",
    "print(rows)"
   ]
  },
  {
   "cell_type": "code",
   "execution_count": 22,
   "id": "b3390f8b",
   "metadata": {},
   "outputs": [
    {
     "name": "stdout",
     "output_type": "stream",
     "text": [
      "56\n",
      "59\n"
     ]
    }
   ],
   "source": [
    "#讀取\n",
    "for key, value in rows.items():\n",
    "    print(str(value[b'cf1:humidity'], 'utf-8'))"
   ]
  },
  {
   "cell_type": "code",
   "execution_count": 23,
   "id": "027bc87e",
   "metadata": {},
   "outputs": [
    {
     "name": "stdout",
     "output_type": "stream",
     "text": [
      "{b'cf1:temperature': b'37'}\n"
     ]
    }
   ],
   "source": [
    "#通過指定條件查找資料\n",
    "row = table.row('machine6', columns=['cf1'])\n",
    "print(row)"
   ]
  },
  {
   "cell_type": "code",
   "execution_count": 24,
   "id": "4ed59926",
   "metadata": {},
   "outputs": [
    {
     "name": "stdout",
     "output_type": "stream",
     "text": [
      "{b'cf1:temperature': b'37', b'cf2:current': b'8'}\n"
     ]
    }
   ],
   "source": [
    "#通過指定條件查找資料\n",
    "row = table.row('machine6', columns=[b'cf1:temperature', b'cf2:current'])\n",
    "print(row)"
   ]
  },
  {
   "cell_type": "code",
   "execution_count": 25,
   "id": "d7482d5e",
   "metadata": {},
   "outputs": [
    {
     "name": "stdout",
     "output_type": "stream",
     "text": [
      "{b'cf1:humidity': (b'56', 1627257686060), b'cf1:temperature': (b'36.5', 1627257686060), b'cf1:vibration': (b'265', 1627257686060)}\n"
     ]
    }
   ],
   "source": [
    "#時間戳記\n",
    "row = table.row(row='machine1', include_timestamp=True)\n",
    "print(row)\n",
    "\n",
    "#透過取得時間轉換\n",
    "#https://www.cadch.com/article/timestamp/index.php   "
   ]
  },
  {
   "cell_type": "code",
   "execution_count": 26,
   "id": "419bac35",
   "metadata": {},
   "outputs": [],
   "source": [
    "#多put幾次，讓 machine1 有多個版本\n",
    "sensor1 = {'cf1:temperature': '38'}\n",
    "table.put(row='machine1', data=sensor1)\n",
    "\n",
    "sensor1 = {'cf1:temperature': '39'}\n",
    "table.put(row='machine1', data=sensor1)\n",
    "\n",
    "sensor1 = {'cf1:temperature': '40'}\n",
    "table.put(row='machine1', data=sensor1)\n",
    "\n",
    "sensor1 = {'cf1:temperature': '41'}\n",
    "table.put(row='machine1', data=sensor1)"
   ]
  },
  {
   "cell_type": "code",
   "execution_count": 27,
   "id": "764b79bb",
   "metadata": {},
   "outputs": [
    {
     "name": "stdout",
     "output_type": "stream",
     "text": [
      "找出每個版本的值，但該值並未按照時間排序:\n",
      "[(b'41', 1627257694752), (b'40', 1627257694747), (b'39', 1627257694741), (b'38', 1627257694730), (b'36.5', 1627257686060)]\n",
      "經過時間排序後的值:\n",
      "[(b'36.5', 1627257686060), (b'38', 1627257694730), (b'39', 1627257694741), (b'40', 1627257694747), (b'41', 1627257694752)]\n"
     ]
    }
   ],
   "source": [
    "#檢視某一個cell所有版本\n",
    "cells = table.cells(b'machine1', column='cf1:temperature', include_timestamp=True)\n",
    "print(\"找出每個版本的值，但該值並未按照時間排序:\")\n",
    "print(cells)\n",
    "\n",
    "print(\"經過時間排序後的值:\")\n",
    "print(sorted(cells, key=lambda tup: tup[1]))"
   ]
  },
  {
   "cell_type": "code",
   "execution_count": 28,
   "id": "2f9f7ea1",
   "metadata": {},
   "outputs": [
    {
     "name": "stdout",
     "output_type": "stream",
     "text": [
      "[b'41', b'40', b'39']\n"
     ]
    }
   ],
   "source": [
    "#通過引數來檢索前n個版本\n",
    "cells = table.cells(b'machine1', column=b'cf1:temperature', versions=3)\n",
    "print(cells)"
   ]
  },
  {
   "cell_type": "code",
   "execution_count": 29,
   "id": "c5ea8fc1",
   "metadata": {},
   "outputs": [],
   "source": [
    "#刪除RowKey為machine1的資料\n",
    "table.delete('machine1')"
   ]
  },
  {
   "cell_type": "code",
   "execution_count": 30,
   "id": "2121d801",
   "metadata": {},
   "outputs": [],
   "source": [
    "#刪除一個cf資料\n",
    "table.delete('machine2', columns=[b'cf1'])"
   ]
  },
  {
   "cell_type": "code",
   "execution_count": 31,
   "id": "a047279d",
   "metadata": {},
   "outputs": [],
   "source": [
    "#刪除一個cf多個資料\n",
    "table.delete('machine7', columns=[b'cf1:temperature',b'cf2:current'])"
   ]
  },
  {
   "cell_type": "code",
   "execution_count": 32,
   "id": "0d2d5a33",
   "metadata": {},
   "outputs": [
    {
     "name": "stdout",
     "output_type": "stream",
     "text": [
      "b'machine3' {b'cf1:humidity': b'57', b'cf1:temperature': b'36.8', b'cf1:vibration': b'289'}\n",
      "b'machine4' {b'cf2:current': b'6', b'cf2:voltage': b'220'}\n",
      "b'machine6' {b'cf1:temperature': b'37', b'cf2:current': b'8', b'cf2:humidity': b'55'}\n",
      "b'machine7' {b'cf2:humidity': b'45', b'cf2:voltage': b'110'}\n"
     ]
    }
   ],
   "source": [
    "#查看\n",
    "for key, value in table.scan():\n",
    "    print(key, value)"
   ]
  },
  {
   "cell_type": "code",
   "execution_count": 33,
   "id": "ee66c690",
   "metadata": {},
   "outputs": [],
   "source": [
    "connection.close()"
   ]
  },
  {
   "cell_type": "code",
   "execution_count": null,
   "id": "a915b826",
   "metadata": {},
   "outputs": [],
   "source": []
  },
  {
   "cell_type": "code",
   "execution_count": null,
   "id": "073bbde7",
   "metadata": {},
   "outputs": [],
   "source": []
  }
 ],
 "metadata": {
  "kernelspec": {
   "display_name": "Python 3",
   "language": "python",
   "name": "python3"
  },
  "language_info": {
   "codemirror_mode": {
    "name": "ipython",
    "version": 3
   },
   "file_extension": ".py",
   "mimetype": "text/x-python",
   "name": "python",
   "nbconvert_exporter": "python",
   "pygments_lexer": "ipython3",
   "version": "3.9.5"
  }
 },
 "nbformat": 4,
 "nbformat_minor": 5
}
