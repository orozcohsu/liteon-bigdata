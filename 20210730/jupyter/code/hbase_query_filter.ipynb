{
 "cells": [
  {
   "cell_type": "code",
   "execution_count": 127,
   "id": "96fbbeb2",
   "metadata": {},
   "outputs": [],
   "source": [
    "import happybase\n",
    "\n",
    "connection = happybase.Connection('hbase-master',autoconnect=True)"
   ]
  },
  {
   "cell_type": "code",
   "execution_count": 95,
   "id": "864b83fd",
   "metadata": {},
   "outputs": [
    {
     "ename": "AlreadyExists",
     "evalue": "AlreadyExists(message=b'table name already in use')",
     "output_type": "error",
     "traceback": [
      "\u001b[0;31m---------------------------------------------------------------------------\u001b[0m",
      "\u001b[0;31mAlreadyExists\u001b[0m                             Traceback (most recent call last)",
      "\u001b[0;32m<ipython-input-95-d6645f35541e>\u001b[0m in \u001b[0;36m<module>\u001b[0;34m\u001b[0m\n\u001b[1;32m      1\u001b[0m \u001b[0;31m#建立一個table\u001b[0m\u001b[0;34m\u001b[0m\u001b[0;34m\u001b[0m\u001b[0;34m\u001b[0m\u001b[0m\n\u001b[0;32m----> 2\u001b[0;31m connection.create_table(\n\u001b[0m\u001b[1;32m      3\u001b[0m     \u001b[0;34m'people'\u001b[0m\u001b[0;34m,\u001b[0m\u001b[0;34m\u001b[0m\u001b[0;34m\u001b[0m\u001b[0m\n\u001b[1;32m      4\u001b[0m     {\n\u001b[1;32m      5\u001b[0m         \u001b[0;34m'profile'\u001b[0m\u001b[0;34m:\u001b[0m\u001b[0mdict\u001b[0m\u001b[0;34m(\u001b[0m\u001b[0;34m)\u001b[0m\u001b[0;34m\u001b[0m\u001b[0;34m\u001b[0m\u001b[0m\n",
      "\u001b[0;32m/opt/conda/lib/python3.9/site-packages/happybase/connection.py\u001b[0m in \u001b[0;36mcreate_table\u001b[0;34m(self, name, families)\u001b[0m\n\u001b[1;32m    307\u001b[0m             \u001b[0mcolumn_descriptors\u001b[0m\u001b[0;34m.\u001b[0m\u001b[0mappend\u001b[0m\u001b[0;34m(\u001b[0m\u001b[0mColumnDescriptor\u001b[0m\u001b[0;34m(\u001b[0m\u001b[0;34m**\u001b[0m\u001b[0mkwargs\u001b[0m\u001b[0;34m)\u001b[0m\u001b[0;34m)\u001b[0m\u001b[0;34m\u001b[0m\u001b[0;34m\u001b[0m\u001b[0m\n\u001b[1;32m    308\u001b[0m \u001b[0;34m\u001b[0m\u001b[0m\n\u001b[0;32m--> 309\u001b[0;31m         \u001b[0mself\u001b[0m\u001b[0;34m.\u001b[0m\u001b[0mclient\u001b[0m\u001b[0;34m.\u001b[0m\u001b[0mcreateTable\u001b[0m\u001b[0;34m(\u001b[0m\u001b[0mname\u001b[0m\u001b[0;34m,\u001b[0m \u001b[0mcolumn_descriptors\u001b[0m\u001b[0;34m)\u001b[0m\u001b[0;34m\u001b[0m\u001b[0;34m\u001b[0m\u001b[0m\n\u001b[0m\u001b[1;32m    310\u001b[0m \u001b[0;34m\u001b[0m\u001b[0m\n\u001b[1;32m    311\u001b[0m     \u001b[0;32mdef\u001b[0m \u001b[0mdelete_table\u001b[0m\u001b[0;34m(\u001b[0m\u001b[0mself\u001b[0m\u001b[0;34m,\u001b[0m \u001b[0mname\u001b[0m\u001b[0;34m,\u001b[0m \u001b[0mdisable\u001b[0m\u001b[0;34m=\u001b[0m\u001b[0;32mFalse\u001b[0m\u001b[0;34m)\u001b[0m\u001b[0;34m:\u001b[0m\u001b[0;34m\u001b[0m\u001b[0;34m\u001b[0m\u001b[0m\n",
      "\u001b[0;32m/opt/conda/lib/python3.9/site-packages/thriftpy2/thrift.py\u001b[0m in \u001b[0;36m_req\u001b[0;34m(self, _api, *args, **kwargs)\u001b[0m\n\u001b[1;32m    217\u001b[0m         \u001b[0;31m# wait result only if non-oneway\u001b[0m\u001b[0;34m\u001b[0m\u001b[0;34m\u001b[0m\u001b[0;34m\u001b[0m\u001b[0m\n\u001b[1;32m    218\u001b[0m         \u001b[0;32mif\u001b[0m \u001b[0;32mnot\u001b[0m \u001b[0mgetattr\u001b[0m\u001b[0;34m(\u001b[0m\u001b[0mresult_cls\u001b[0m\u001b[0;34m,\u001b[0m \u001b[0;34m\"oneway\"\u001b[0m\u001b[0;34m)\u001b[0m\u001b[0;34m:\u001b[0m\u001b[0;34m\u001b[0m\u001b[0;34m\u001b[0m\u001b[0m\n\u001b[0;32m--> 219\u001b[0;31m             \u001b[0;32mreturn\u001b[0m \u001b[0mself\u001b[0m\u001b[0;34m.\u001b[0m\u001b[0m_recv\u001b[0m\u001b[0;34m(\u001b[0m\u001b[0m_api\u001b[0m\u001b[0;34m)\u001b[0m\u001b[0;34m\u001b[0m\u001b[0;34m\u001b[0m\u001b[0m\n\u001b[0m\u001b[1;32m    220\u001b[0m \u001b[0;34m\u001b[0m\u001b[0m\n\u001b[1;32m    221\u001b[0m     \u001b[0;32mdef\u001b[0m \u001b[0m_send\u001b[0m\u001b[0;34m(\u001b[0m\u001b[0mself\u001b[0m\u001b[0;34m,\u001b[0m \u001b[0m_api\u001b[0m\u001b[0;34m,\u001b[0m \u001b[0;34m**\u001b[0m\u001b[0mkwargs\u001b[0m\u001b[0;34m)\u001b[0m\u001b[0;34m:\u001b[0m\u001b[0;34m\u001b[0m\u001b[0;34m\u001b[0m\u001b[0m\n",
      "\u001b[0;32m/opt/conda/lib/python3.9/site-packages/thriftpy2/thrift.py\u001b[0m in \u001b[0;36m_recv\u001b[0;34m(self, _api)\u001b[0m\n\u001b[1;32m    249\u001b[0m         \u001b[0;32mfor\u001b[0m \u001b[0mk\u001b[0m\u001b[0;34m,\u001b[0m \u001b[0mv\u001b[0m \u001b[0;32min\u001b[0m \u001b[0mresult\u001b[0m\u001b[0;34m.\u001b[0m\u001b[0m__dict__\u001b[0m\u001b[0;34m.\u001b[0m\u001b[0mitems\u001b[0m\u001b[0;34m(\u001b[0m\u001b[0;34m)\u001b[0m\u001b[0;34m:\u001b[0m\u001b[0;34m\u001b[0m\u001b[0;34m\u001b[0m\u001b[0m\n\u001b[1;32m    250\u001b[0m             \u001b[0;32mif\u001b[0m \u001b[0mk\u001b[0m \u001b[0;34m!=\u001b[0m \u001b[0;34m\"success\"\u001b[0m \u001b[0;32mand\u001b[0m \u001b[0mv\u001b[0m\u001b[0;34m:\u001b[0m\u001b[0;34m\u001b[0m\u001b[0;34m\u001b[0m\u001b[0m\n\u001b[0;32m--> 251\u001b[0;31m                 \u001b[0;32mraise\u001b[0m \u001b[0mv\u001b[0m\u001b[0;34m\u001b[0m\u001b[0;34m\u001b[0m\u001b[0m\n\u001b[0m\u001b[1;32m    252\u001b[0m \u001b[0;34m\u001b[0m\u001b[0m\n\u001b[1;32m    253\u001b[0m         \u001b[0;31m# no throws & not void api\u001b[0m\u001b[0;34m\u001b[0m\u001b[0;34m\u001b[0m\u001b[0;34m\u001b[0m\u001b[0m\n",
      "\u001b[0;31mAlreadyExists\u001b[0m: AlreadyExists(message=b'table name already in use')"
     ]
    }
   ],
   "source": [
    "#建立一個table\n",
    "connection.create_table(\n",
    "    'people',\n",
    "    {\n",
    "        'profile':dict()\n",
    "    }\n",
    ")"
   ]
  },
  {
   "cell_type": "code",
   "execution_count": 128,
   "id": "cff8573c",
   "metadata": {},
   "outputs": [],
   "source": [
    "table = connection.table('people')"
   ]
  },
  {
   "cell_type": "code",
   "execution_count": 12,
   "id": "8dbaa06b",
   "metadata": {},
   "outputs": [],
   "source": [
    "with table.batch() as bat:\n",
    "    bat.put('Candy', {'profile:gender': 'female', 'profile:age': '25', 'profile:addr': 'Taipei'})\n",
    "    bat.put('Judy', {'profile:gender': 'female', 'profile:age': '34', 'profile:addr': 'Taipei'})\n",
    "    bat.put('Tracy', {'profile:gender': 'female', 'profile:age': '18', 'profile:addr': 'Kaohsiung'})\n",
    "    bat.put('Harrison', {'profile:gender': 'male', 'profile:age': '56', 'profile:addr': 'Tainan'})\n",
    "    bat.put('Peter', {'profile:gender': 'male', 'profile:age': '54', 'profile:addr': 'Hualien'})\n",
    "    bat.put('Berry', {'profile:gender': 'female', 'profile:age': '65', 'profile:addr': 'Taichuang'})"
   ]
  },
  {
   "cell_type": "code",
   "execution_count": 97,
   "id": "de6a9a95",
   "metadata": {},
   "outputs": [
    {
     "name": "stdout",
     "output_type": "stream",
     "text": [
      "b'Berry' {b'profile:addr': b'Taichuang', b'profile:age': b'65', b'profile:gender': b'female'}\n",
      "b'Candy' {b'profile:addr': b'Taipei', b'profile:age': b'25', b'profile:gender': b'female'}\n",
      "b'Harrison' {b'profile:addr': b'Tainan', b'profile:age': b'56', b'profile:gender': b'male'}\n",
      "b'Judy' {b'profile:addr': b'Taipei', b'profile:age': b'34', b'profile:gender': b'female'}\n"
     ]
    }
   ],
   "source": [
    "query_str = \"SingleColumnValueFilter ('profile', 'addr', =, 'substring:Tai')\"\n",
    "query = table.scan(filter=query_str, limit=10)\n",
    "for key, value in query:\n",
    "    print(key, value)"
   ]
  },
  {
   "cell_type": "code",
   "execution_count": 99,
   "id": "25e2b5d9",
   "metadata": {},
   "outputs": [
    {
     "name": "stdout",
     "output_type": "stream",
     "text": [
      "b'Berry' {b'profile:addr': b'Taichuang', b'profile:age': b'65', b'profile:gender': b'female'}\n",
      "b'Harrison' {b'profile:addr': b'Tainan', b'profile:age': b'56', b'profile:gender': b'male'}\n",
      "b'Judy' {b'profile:addr': b'Taipei', b'profile:age': b'34', b'profile:gender': b'female'}\n",
      "b'Peter' {b'profile:addr': b'Hualien', b'profile:age': b'54', b'profile:gender': b'male'}\n"
     ]
    }
   ],
   "source": [
    "query_str = \"SingleColumnValueFilter('profile', 'age', >, 'binary:25')\"\n",
    "query = table.scan(filter=query_str, limit=10)\n",
    "for key, value in query:\n",
    "    print(key, value)"
   ]
  },
  {
   "cell_type": "code",
   "execution_count": 102,
   "id": "8042a49b",
   "metadata": {},
   "outputs": [
    {
     "name": "stdout",
     "output_type": "stream",
     "text": [
      "b'Candy' {b'profile:addr': b'Taipei', b'profile:age': b'25', b'profile:gender': b'female'}\n"
     ]
    }
   ],
   "source": [
    "query = table.scan(filter=\"SingleColumnValueFilter('profile', 'addr', =, 'substring:Tai')\" \\\n",
    "                  and \"SingleColumnValueFilter('profile', 'age', =, 'binary:25')\", limit=20)\n",
    "for key, value in query:\n",
    "    print(key, value)"
   ]
  },
  {
   "cell_type": "code",
   "execution_count": 125,
   "id": "bf9869b1",
   "metadata": {},
   "outputs": [
    {
     "name": "stdout",
     "output_type": "stream",
     "text": [
      "sum age: 209\n"
     ]
    }
   ],
   "source": [
    "query = table.scan(columns=[b'profile:gender', b'profile:age'], \\\n",
    "           filter=\"SingleColumnValueFilter('profile', 'addr', =, 'substring:Tai')\" \\\n",
    "              and \"SingleColumnValueFilter('profile', 'age', >, 'binary:25')\", limit=20)\n",
    "#for key, value in query:\n",
    "#    print(key, value)\n",
    "    \n",
    "#求和\n",
    "sum = 0\n",
    "for k, d in query:\n",
    "    age = d[b'profile:age']\n",
    "    sum = sum + int(age)\n",
    "print(\"sum age:\", sum)"
   ]
  },
  {
   "cell_type": "code",
   "execution_count": 137,
   "id": "715547ef",
   "metadata": {},
   "outputs": [
    {
     "name": "stdout",
     "output_type": "stream",
     "text": [
      "b'Berry' b'female'\n",
      "b'Candy' b'female'\n",
      "b'Harrison' b'male'\n",
      "b'Judy' b'female'\n",
      "b'Peter' b'male'\n",
      "b'Tracy' b'female'\n",
      "4\n"
     ]
    }
   ],
   "source": [
    "#計數\n",
    "query = table.scan(columns=[b'profile:gender', b'profile:age'], filter=\"SingleColumnValueFilter('profile', 'addr', =, 'substring:Tai')\") \n",
    "count = 0\n",
    "for k, d in query:\n",
    "    print(k, d[b'profile:gender'])\n",
    "    if (str(d[b'profile:gender'], 'utf-8')) == 'female':\n",
    "        count = count +1\n",
    "print(count)"
   ]
  },
  {
   "cell_type": "code",
   "execution_count": 138,
   "id": "ba6ba3a8",
   "metadata": {},
   "outputs": [],
   "source": [
    "connection.close()"
   ]
  },
  {
   "cell_type": "code",
   "execution_count": null,
   "id": "3d06e566",
   "metadata": {},
   "outputs": [],
   "source": []
  }
 ],
 "metadata": {
  "kernelspec": {
   "display_name": "Python 3",
   "language": "python",
   "name": "python3"
  },
  "language_info": {
   "codemirror_mode": {
    "name": "ipython",
    "version": 3
   },
   "file_extension": ".py",
   "mimetype": "text/x-python",
   "name": "python",
   "nbconvert_exporter": "python",
   "pygments_lexer": "ipython3",
   "version": "3.9.5"
  }
 },
 "nbformat": 4,
 "nbformat_minor": 5
}
