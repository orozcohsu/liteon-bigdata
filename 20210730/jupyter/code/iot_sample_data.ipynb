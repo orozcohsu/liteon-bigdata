{
 "cells": [
  {
   "cell_type": "code",
   "execution_count": 1,
   "id": "c963eea4",
   "metadata": {},
   "outputs": [],
   "source": [
    "import json\n",
    "import random\n",
    "import datetime\n",
    "import time"
   ]
  },
  {
   "cell_type": "code",
   "execution_count": 3,
   "id": "df315f82",
   "metadata": {},
   "outputs": [
    {
     "name": "stdout",
     "output_type": "stream",
     "text": [
      "{\"deviceValue\": 118, \"deviceParameter\": \"Sound\", \"deviceId\": \"SBS03\", \"dateTime\": \"2021-06-22 23:32:22\"}\n",
      "{\"deviceValue\": 92, \"deviceParameter\": \"Flow\", \"deviceId\": \"SBS03\", \"dateTime\": \"2021-06-22 23:32:23\"}\n",
      "{\"deviceValue\": 16, \"deviceParameter\": \"Temperature\", \"deviceId\": \"SBS05\", \"dateTime\": \"2021-06-22 23:32:24\"}\n",
      "{\"deviceValue\": 88, \"deviceParameter\": \"Flow\", \"deviceId\": \"SBS01\", \"dateTime\": \"2021-06-22 23:32:25\"}\n",
      "{\"deviceValue\": 16, \"deviceParameter\": \"Temperature\", \"deviceId\": \"SBS04\", \"dateTime\": \"2021-06-22 23:32:26\"}\n",
      "{\"deviceValue\": 52, \"deviceParameter\": \"Humidity\", \"deviceId\": \"SBS03\", \"dateTime\": \"2021-06-22 23:32:27\"}\n",
      "{\"deviceValue\": 63, \"deviceParameter\": \"Humidity\", \"deviceId\": \"SBS02\", \"dateTime\": \"2021-06-22 23:32:28\"}\n",
      "{\"deviceValue\": 21, \"deviceParameter\": \"Temperature\", \"deviceId\": \"SBS04\", \"dateTime\": \"2021-06-22 23:32:29\"}\n",
      "{\"deviceValue\": 99, \"deviceParameter\": \"Flow\", \"deviceId\": \"SBS03\", \"dateTime\": \"2021-06-22 23:32:30\"}\n",
      "{\"deviceValue\": 68, \"deviceParameter\": \"Flow\", \"deviceId\": \"SBS03\", \"dateTime\": \"2021-06-22 23:32:31\"}\n",
      "{\"deviceValue\": 100, \"deviceParameter\": \"Sound\", \"deviceId\": \"SBS03\", \"dateTime\": \"2021-06-22 23:32:32\"}\n"
     ]
    },
    {
     "ename": "KeyboardInterrupt",
     "evalue": "",
     "output_type": "error",
     "traceback": [
      "\u001b[0;31m---------------------------------------------------------------------------\u001b[0m",
      "\u001b[0;31mKeyboardInterrupt\u001b[0m                         Traceback (most recent call last)",
      "\u001b[0;32m<ipython-input-3-8f6f4547ca5d>\u001b[0m in \u001b[0;36m<module>\u001b[0;34m\u001b[0m\n\u001b[1;32m     39\u001b[0m \u001b[0;31m# Generate each parameter's data input in varying proportions\u001b[0m\u001b[0;34m\u001b[0m\u001b[0;34m\u001b[0m\u001b[0;34m\u001b[0m\u001b[0m\n\u001b[1;32m     40\u001b[0m \u001b[0;32mwhile\u001b[0m \u001b[0;32mTrue\u001b[0m\u001b[0;34m:\u001b[0m\u001b[0;34m\u001b[0m\u001b[0;34m\u001b[0m\u001b[0m\n\u001b[0;32m---> 41\u001b[0;31m     \u001b[0mtime\u001b[0m\u001b[0;34m.\u001b[0m\u001b[0msleep\u001b[0m\u001b[0;34m(\u001b[0m\u001b[0;36m1\u001b[0m\u001b[0;34m)\u001b[0m\u001b[0;34m\u001b[0m\u001b[0;34m\u001b[0m\u001b[0m\n\u001b[0m\u001b[1;32m     42\u001b[0m     \u001b[0mrnd\u001b[0m \u001b[0;34m=\u001b[0m \u001b[0mrandom\u001b[0m\u001b[0;34m.\u001b[0m\u001b[0mrandom\u001b[0m\u001b[0;34m(\u001b[0m\u001b[0;34m)\u001b[0m\u001b[0;34m\u001b[0m\u001b[0;34m\u001b[0m\u001b[0m\n\u001b[1;32m     43\u001b[0m     \u001b[0;32mif\u001b[0m \u001b[0;34m(\u001b[0m\u001b[0;36m0\u001b[0m \u001b[0;34m<=\u001b[0m \u001b[0mrnd\u001b[0m \u001b[0;34m<\u001b[0m \u001b[0;36m0.20\u001b[0m\u001b[0;34m)\u001b[0m\u001b[0;34m:\u001b[0m\u001b[0;34m\u001b[0m\u001b[0;34m\u001b[0m\u001b[0m\n",
      "\u001b[0;31mKeyboardInterrupt\u001b[0m: "
     ]
    }
   ],
   "source": [
    "deviceNames = ['SBS01', 'SBS02', 'SBS03', 'SBS04', 'SBS05']\n",
    "\n",
    "# generate Flow values\n",
    "def getFlowValues():\n",
    "    data = {}\n",
    "    data['deviceValue'] = random.randint(60, 100)\n",
    "    data['deviceParameter'] = 'Flow'\n",
    "    data['deviceId'] = random.choice(deviceNames)\n",
    "    data['dateTime'] = datetime.datetime.now().strftime(\"%Y-%m-%d %H:%M:%S\")\n",
    "    return data\n",
    "\n",
    "# generate Temperature values\n",
    "def getTemperatureValues():\n",
    "    data = {}\n",
    "    data['deviceValue'] = random.randint(15, 35)\n",
    "    data['deviceParameter'] = 'Temperature'\n",
    "    data['deviceId'] = random.choice(deviceNames)\n",
    "    data['dateTime'] = datetime.datetime.now().strftime(\"%Y-%m-%d %H:%M:%S\")\n",
    "    return data\n",
    "\n",
    "# generate Humidity values\n",
    "def getHumidityValues():\n",
    "    data = {}\n",
    "    data['deviceValue'] = random.randint(50, 90)\n",
    "    data['deviceParameter'] = 'Humidity'\n",
    "    data['deviceId'] = random.choice(deviceNames)\n",
    "    data['dateTime'] = datetime.datetime.now().strftime(\"%Y-%m-%d %H:%M:%S\")\n",
    "    return data\n",
    "\n",
    "# generate Sound values\n",
    "def getSoundValues():\n",
    "    data = {}\n",
    "    data['deviceValue'] = random.randint(100, 140)\n",
    "    data['deviceParameter'] = 'Sound'\n",
    "    data['deviceId'] = random.choice(deviceNames)\n",
    "    data['dateTime'] = datetime.datetime.now().strftime(\"%Y-%m-%d %H:%M:%S\")\n",
    "    return data\n",
    "\n",
    "# Generate each parameter's data input in varying proportions\n",
    "while True:\n",
    "    time.sleep(1)\n",
    "    rnd = random.random()\n",
    "    if (0 <= rnd < 0.20):\n",
    "        data = json.dumps(getFlowValues())\n",
    "        print(data)\n",
    "    elif (0.20<= rnd < 0.55):\n",
    "        data = json.dumps(getTemperatureValues())\n",
    "        print(data)\n",
    "    elif (0.55<= rnd < 0.70):\n",
    "        data = json.dumps(getHumidityValues())\n",
    "        print(data)\n",
    "    else:\n",
    "        data = json.dumps(getSoundValues())\n",
    "        print(data)     \n"
   ]
  },
  {
   "cell_type": "code",
   "execution_count": null,
   "id": "28f02222",
   "metadata": {},
   "outputs": [],
   "source": []
  }
 ],
 "metadata": {
  "kernelspec": {
   "display_name": "Python 3",
   "language": "python",
   "name": "python3"
  },
  "language_info": {
   "codemirror_mode": {
    "name": "ipython",
    "version": 3
   },
   "file_extension": ".py",
   "mimetype": "text/x-python",
   "name": "python",
   "nbconvert_exporter": "python",
   "pygments_lexer": "ipython3",
   "version": "3.9.5"
  }
 },
 "nbformat": 4,
 "nbformat_minor": 5
}
