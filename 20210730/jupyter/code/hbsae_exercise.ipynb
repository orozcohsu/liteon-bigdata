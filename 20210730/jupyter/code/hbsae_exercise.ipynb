{
 "cells": [
  {
   "cell_type": "code",
   "execution_count": 1,
   "id": "984558d3",
   "metadata": {},
   "outputs": [
    {
     "name": "stdout",
     "output_type": "stream",
     "text": [
      "Collecting happybase\n",
      "  Downloading happybase-1.2.0.tar.gz (40 kB)\n",
      "\u001b[K     |████████████████████████████████| 40 kB 2.0 MB/s eta 0:00:011\n",
      "\u001b[?25hRequirement already satisfied: six in /opt/conda/lib/python3.9/site-packages (from happybase) (1.16.0)\n",
      "Collecting thriftpy2>=0.4\n",
      "  Downloading thriftpy2-0.4.14.tar.gz (361 kB)\n",
      "\u001b[K     |████████████████████████████████| 361 kB 1.5 MB/s eta 0:00:01\n",
      "\u001b[?25hCollecting ply<4.0,>=3.4\n",
      "  Downloading ply-3.11-py2.py3-none-any.whl (49 kB)\n",
      "\u001b[K     |████████████████████████████████| 49 kB 3.1 MB/s eta 0:00:01\n",
      "\u001b[?25hBuilding wheels for collected packages: happybase, thriftpy2\n",
      "  Building wheel for happybase (setup.py) ... \u001b[?25ldone\n",
      "\u001b[?25h  Created wheel for happybase: filename=happybase-1.2.0-py2.py3-none-any.whl size=26606 sha256=adc34fc695ab839ecef557c6db86b020f96ac28bfef8543ae41329a1b4d5c08b\n",
      "  Stored in directory: /home/jovyan/.cache/pip/wheels/9e/00/b2/3a44a68da0a23b4f274c24f3bda10e84283d63fb8b8dfb3709\n",
      "  Building wheel for thriftpy2 (setup.py) ... \u001b[?25ldone\n",
      "\u001b[?25h  Created wheel for thriftpy2: filename=thriftpy2-0.4.14-cp39-cp39-linux_x86_64.whl size=507857 sha256=f8b52683200903b024541ce4dd180896e03dc97a340d468a1fa1b1d38c791b6e\n",
      "  Stored in directory: /home/jovyan/.cache/pip/wheels/a1/97/73/c37a0f04483972cb2ca32764534da03dcfec3b2f0f8855a87d\n",
      "Successfully built happybase thriftpy2\n",
      "Installing collected packages: ply, thriftpy2, happybase\n",
      "Successfully installed happybase-1.2.0 ply-3.11 thriftpy2-0.4.14\n"
     ]
    }
   ],
   "source": [
    "!pip install happybase"
   ]
  },
  {
   "cell_type": "code",
   "execution_count": 2,
   "id": "bee79301",
   "metadata": {},
   "outputs": [
    {
     "name": "stdout",
     "output_type": "stream",
     "text": [
      "Collecting thrift\n",
      "  Downloading thrift-0.13.0.tar.gz (59 kB)\n",
      "\u001b[K     |████████████████████████████████| 59 kB 1.0 MB/s eta 0:00:011\n",
      "\u001b[?25hRequirement already satisfied: six>=1.7.2 in /opt/conda/lib/python3.9/site-packages (from thrift) (1.16.0)\n",
      "Building wheels for collected packages: thrift\n",
      "  Building wheel for thrift (setup.py) ... \u001b[?25ldone\n",
      "\u001b[?25h  Created wheel for thrift: filename=thrift-0.13.0-cp39-cp39-linux_x86_64.whl size=182896 sha256=5ac3e85b98ab627a6830175be4989f05c7775fa6ee4d9e2b05a783660fe5b03c\n",
      "  Stored in directory: /home/jovyan/.cache/pip/wheels/a3/18/80/a9b97f8e0dddb23be3e79f2209dfa3cd6292e1e42bd210a068\n",
      "Successfully built thrift\n",
      "Installing collected packages: thrift\n",
      "Successfully installed thrift-0.13.0\n"
     ]
    }
   ],
   "source": [
    "!pip install thrift"
   ]
  },
  {
   "cell_type": "code",
   "execution_count": 3,
   "id": "d8643de9",
   "metadata": {},
   "outputs": [
    {
     "name": "stdout",
     "output_type": "stream",
     "text": [
      "[b'my_table', b'person']\n"
     ]
    }
   ],
   "source": [
    "import happybase\n",
    "\n",
    "connection = happybase.Connection('hbase-master')\n",
    "print(connection.tables())"
   ]
  },
  {
   "cell_type": "code",
   "execution_count": 11,
   "id": "f9874766",
   "metadata": {},
   "outputs": [],
   "source": [
    "#建立一個table\n",
    "connection.create_table(\n",
    "    'my_table',\n",
    "    {\n",
    "        'cf1': dict(max_versions=10), #版本保留10個\n",
    "        'cf2': dict(max_versions=1, block_cache_enabled=False), #不進行緩存\n",
    "        'cf3': dict()  #使用預設值\n",
    "    }\n",
    ")"
   ]
  },
  {
   "cell_type": "code",
   "execution_count": 4,
   "id": "51e3a6e8",
   "metadata": {},
   "outputs": [
    {
     "name": "stdout",
     "output_type": "stream",
     "text": [
      "[b'my_table', b'person']\n"
     ]
    }
   ],
   "source": [
    "print(connection.tables())"
   ]
  },
  {
   "cell_type": "code",
   "execution_count": 5,
   "id": "3c0c9226",
   "metadata": {},
   "outputs": [],
   "source": [
    "table = connection.table('my_table')"
   ]
  },
  {
   "cell_type": "code",
   "execution_count": 9,
   "id": "18301054",
   "metadata": {},
   "outputs": [],
   "source": [
    "#若RowKey已經存在，就會變成更新資料\n",
    "\n",
    "sensor1 = {'cf1:temperature': '36.5', 'cf1:humidity': '56', 'cf1:vibration': '265'}\n",
    "sensor2 = {'cf1:temperature': '36.7', 'cf1:humidity': '56', 'cf1:vibration': '287'}\n",
    "sensor3 = {'cf1:temperature': '36.8', 'cf1:humidity': '57', 'cf1:vibration': '289'}\n",
    "sensor4 = {'cf2:voltage': '220', 'cf2:current': '6'}\n",
    "\n",
    "#這樣會put四次\n",
    "table.put(row='machine1', data=sensor1)\n",
    "table.put(row='machine2', data=sensor2)\n",
    "table.put(row='machine3', data=sensor3)\n",
    "table.put(row='machine4', data=sensor4)"
   ]
  },
  {
   "cell_type": "code",
   "execution_count": 14,
   "id": "9bdb8491",
   "metadata": {},
   "outputs": [
    {
     "name": "stdout",
     "output_type": "stream",
     "text": [
      "b'machine1' {b'cf1:humidity': b'56', b'cf1:temperature': b'36.5', b'cf1:vibration': b'265'}\n",
      "b'machine2' {b'cf1:humidity': b'56', b'cf1:temperature': b'36.7', b'cf1:vibration': b'287'}\n",
      "b'machine3' {b'cf1:humidity': b'57', b'cf1:temperature': b'36.8', b'cf1:vibration': b'289'}\n",
      "b'machine4' {b'cf2:current': b'6', b'cf2:voltage': b'220'}\n",
      "b'machine5' {b'cf1:temperature': b'37', b'cf2:humidity': b'55', b'cf2:voltage': b'220'}\n",
      "b'machine6' {b'cf1:temperature': b'37', b'cf2:current': b'8', b'cf2:humidity': b'55'}\n"
     ]
    }
   ],
   "source": [
    "#查看\n",
    "for key, value in table.scan():\n",
    "    print(key, value)"
   ]
  },
  {
   "cell_type": "code",
   "execution_count": 13,
   "id": "8945ede5",
   "metadata": {},
   "outputs": [],
   "source": [
    "#批次\n",
    "bat = table.batch()\n",
    "bat.put('machine5', {'cf1:temperature': '37', 'cf2:humidity': '55', 'cf2:voltage': '220'})\n",
    "bat.put('machine6', {'cf1:temperature': '37', 'cf2:humidity': '55', 'cf2:current': '8'})\n",
    "bat.send()"
   ]
  },
  {
   "cell_type": "code",
   "execution_count": 15,
   "id": "0c476b4e",
   "metadata": {},
   "outputs": [
    {
     "name": "stdout",
     "output_type": "stream",
     "text": [
      "b'machine1' {b'cf1:humidity': b'56', b'cf1:temperature': b'36.5', b'cf1:vibration': b'265'}\n",
      "b'machine2' {b'cf1:humidity': b'56', b'cf1:temperature': b'36.7', b'cf1:vibration': b'287'}\n",
      "b'machine3' {b'cf1:humidity': b'57', b'cf1:temperature': b'36.8', b'cf1:vibration': b'289'}\n",
      "b'machine4' {b'cf2:current': b'6', b'cf2:voltage': b'220'}\n",
      "b'machine5' {b'cf1:temperature': b'37', b'cf2:humidity': b'55', b'cf2:voltage': b'220'}\n",
      "b'machine6' {b'cf1:temperature': b'37', b'cf2:current': b'8', b'cf2:humidity': b'55'}\n"
     ]
    }
   ],
   "source": [
    "#查看\n",
    "for key, value in table.scan():\n",
    "    print(key, value)"
   ]
  },
  {
   "cell_type": "code",
   "execution_count": 16,
   "id": "b66a7244",
   "metadata": {},
   "outputs": [],
   "source": [
    "#刪除\n",
    "with table.batch() as bat:\n",
    "    bat.put('machine7', {'cf1:temperature': '39', 'cf2:humidity': '45', 'cf2:voltage': '110'})\n",
    "    bat.delete('machine5')"
   ]
  },
  {
   "cell_type": "code",
   "execution_count": 17,
   "id": "20093f00",
   "metadata": {},
   "outputs": [
    {
     "name": "stdout",
     "output_type": "stream",
     "text": [
      "b'machine1' {b'cf1:humidity': b'56', b'cf1:temperature': b'36.5', b'cf1:vibration': b'265'}\n",
      "b'machine2' {b'cf1:humidity': b'56', b'cf1:temperature': b'36.7', b'cf1:vibration': b'287'}\n",
      "b'machine3' {b'cf1:humidity': b'57', b'cf1:temperature': b'36.8', b'cf1:vibration': b'289'}\n",
      "b'machine4' {b'cf2:current': b'6', b'cf2:voltage': b'220'}\n",
      "b'machine6' {b'cf1:temperature': b'37', b'cf2:current': b'8', b'cf2:humidity': b'55'}\n",
      "b'machine7' {b'cf1:temperature': b'39', b'cf2:humidity': b'45', b'cf2:voltage': b'110'}\n"
     ]
    }
   ],
   "source": [
    "#查看\n",
    "for key, value in table.scan():\n",
    "    print(key, value)"
   ]
  },
  {
   "cell_type": "code",
   "execution_count": 18,
   "id": "514a2144",
   "metadata": {},
   "outputs": [
    {
     "name": "stdout",
     "output_type": "stream",
     "text": [
      "b'machine3' {b'cf1:humidity': b'57', b'cf1:temperature': b'36.8', b'cf1:vibration': b'289'}\n",
      "b'machine4' {b'cf2:current': b'6', b'cf2:voltage': b'220'}\n",
      "b'machine6' {b'cf1:temperature': b'37', b'cf2:current': b'8', b'cf2:humidity': b'55'}\n",
      "b'machine7' {b'cf1:temperature': b'39', b'cf2:humidity': b'45', b'cf2:voltage': b'110'}\n"
     ]
    }
   ],
   "source": [
    "#通過row_start引數來設定開始掃描的RowKey\n",
    "for key, value in table.scan(row_start='machine3'):\n",
    "    print(key, value)"
   ]
  },
  {
   "cell_type": "code",
   "execution_count": 19,
   "id": "6e4dff56",
   "metadata": {},
   "outputs": [
    {
     "name": "stdout",
     "output_type": "stream",
     "text": [
      "b'machine1' {b'cf1:humidity': b'56', b'cf1:temperature': b'36.5', b'cf1:vibration': b'265'}\n",
      "b'machine2' {b'cf1:humidity': b'56', b'cf1:temperature': b'36.7', b'cf1:vibration': b'287'}\n"
     ]
    }
   ],
   "source": [
    "#通過row_stop引數來設定結束掃描的RowKey\n",
    "for key, value in table.scan(row_stop='machine3'):\n",
    "    print(key, value)"
   ]
  },
  {
   "cell_type": "code",
   "execution_count": 21,
   "id": "349fba5f",
   "metadata": {},
   "outputs": [
    {
     "name": "stdout",
     "output_type": "stream",
     "text": [
      "b'machine1' {b'cf1:humidity': b'56', b'cf1:temperature': b'36.5', b'cf1:vibration': b'265'}\n",
      "b'machine2' {b'cf1:humidity': b'56', b'cf1:temperature': b'36.7', b'cf1:vibration': b'287'}\n",
      "b'machine3' {b'cf1:humidity': b'57', b'cf1:temperature': b'36.8', b'cf1:vibration': b'289'}\n",
      "b'machine4' {b'cf2:current': b'6', b'cf2:voltage': b'220'}\n"
     ]
    }
   ],
   "source": [
    "#通過row_start和row_stop引數來設定開始和結束掃描的RowKey\n",
    "for key, value in table.scan(row_start='machine1', row_stop='machine5'):\n",
    "    print(key, value)"
   ]
  },
  {
   "cell_type": "code",
   "execution_count": 32,
   "id": "6329d910",
   "metadata": {},
   "outputs": [
    {
     "data": {
      "text/plain": [
       "{b'cf1:humidity': b'56', b'cf1:temperature': b'36.5', b'cf1:vibration': b'265'}"
      ]
     },
     "execution_count": 32,
     "metadata": {},
     "output_type": "execute_result"
    }
   ],
   "source": [
    "#查看資料\n",
    "row = table.row('machine1')\n",
    "res=row\n",
    "res"
   ]
  },
  {
   "cell_type": "code",
   "execution_count": 43,
   "id": "0666492c",
   "metadata": {},
   "outputs": [
    {
     "name": "stdout",
     "output_type": "stream",
     "text": [
      "56\n"
     ]
    }
   ],
   "source": [
    "#抓出資料\n",
    "byte_humidity=res[b'cf1:humidity']\n",
    "\n",
    "#將byte轉為string\n",
    "encoding = 'utf-8'\n",
    "humidity=str(byte_humidity, encoding)\n",
    "print(humidity)"
   ]
  },
  {
   "cell_type": "code",
   "execution_count": 46,
   "id": "9b8f76b4",
   "metadata": {},
   "outputs": [
    {
     "name": "stdout",
     "output_type": "stream",
     "text": [
      "{b'machine1': {b'cf1:humidity': b'56', b'cf1:temperature': b'36.5', b'cf1:vibration': b'265'}, b'machine2': {b'cf1:humidity': b'56', b'cf1:temperature': b'36.7', b'cf1:vibration': b'287'}}\n"
     ]
    }
   ],
   "source": [
    "#查看多筆資料\n",
    "rows = dict(table.rows(['machine1', 'machine2']))\n",
    "print(rows)"
   ]
  },
  {
   "cell_type": "code",
   "execution_count": 59,
   "id": "b3390f8b",
   "metadata": {},
   "outputs": [
    {
     "name": "stdout",
     "output_type": "stream",
     "text": [
      "56\n",
      "56\n"
     ]
    }
   ],
   "source": [
    "#讀取\n",
    "for key, value in rows.items():\n",
    "    print(str(value[b'cf1:humidity'], 'utf-8'))"
   ]
  },
  {
   "cell_type": "code",
   "execution_count": 61,
   "id": "027bc87e",
   "metadata": {},
   "outputs": [
    {
     "name": "stdout",
     "output_type": "stream",
     "text": [
      "{b'cf1:temperature': b'37'}\n"
     ]
    }
   ],
   "source": [
    "#通過指定條件查找資料\n",
    "row = table.row('machine6', columns=['cf1'])\n",
    "print(row)"
   ]
  },
  {
   "cell_type": "code",
   "execution_count": 65,
   "id": "4ed59926",
   "metadata": {},
   "outputs": [
    {
     "name": "stdout",
     "output_type": "stream",
     "text": [
      "{b'cf1:temperature': b'37', b'cf2:current': b'8'}\n"
     ]
    }
   ],
   "source": [
    "#通過指定條件查找資料\n",
    "row = table.row('machine6', columns=[b'cf1:temperature', b'cf2:current'])\n",
    "print(row)"
   ]
  },
  {
   "cell_type": "code",
   "execution_count": 83,
   "id": "a1d6d0ee",
   "metadata": {},
   "outputs": [],
   "source": [
    "import time\n",
    "\n",
    "#date to Timestamp\n",
    "def Timestamp_conversion(date):\n",
    "    timeArray = time.strptime(date, \"%Y-%m-%d %H:%M:%S\")\n",
    "    timestamp = int(time.mktime(timeArray))\n",
    "    return timestamp\n",
    "    \n",
    "#Timestamp to date\n",
    "def date_conversion(timestamp):\n",
    "    time_local = time.localtime(timestamp)\n",
    "    date = time.strftime(\"%Y-%m-%d %H:%M:%S\",time_local)\n",
    "    return date"
   ]
  },
  {
   "cell_type": "code",
   "execution_count": 69,
   "id": "d7482d5e",
   "metadata": {},
   "outputs": [
    {
     "name": "stdout",
     "output_type": "stream",
     "text": [
      "{b'cf1:humidity': (b'56', 1625073688468), b'cf1:temperature': (b'36.5', 1625073688468), b'cf1:vibration': (b'265', 1625073688468)}\n"
     ]
    }
   ],
   "source": [
    "#時間戳記\n",
    "row = table.row(row='machine1', include_timestamp=True)\n",
    "print(row)\n",
    "\n",
    "#透過取得時間轉換\n",
    "#https://www.cadch.com/article/timestamp/index.php   "
   ]
  },
  {
   "cell_type": "code",
   "execution_count": 70,
   "id": "764b79bb",
   "metadata": {},
   "outputs": [
    {
     "name": "stdout",
     "output_type": "stream",
     "text": [
      "[b'36.5', b'36.5', b'36.5']\n"
     ]
    }
   ],
   "source": [
    "#檢視某一個cell所有版本\n",
    "cells = table.cells(b'machine1', column='cf1:temperature')\n",
    "print(cells)"
   ]
  },
  {
   "cell_type": "code",
   "execution_count": 71,
   "id": "f3cbd5f9",
   "metadata": {},
   "outputs": [],
   "source": [
    "#更新資料\n",
    "sensor1 = {'cf1:temperature': '39.5'}\n",
    "table.put(row='machine1', data=sensor1)"
   ]
  },
  {
   "cell_type": "code",
   "execution_count": 78,
   "id": "b5ec176b",
   "metadata": {},
   "outputs": [
    {
     "name": "stdout",
     "output_type": "stream",
     "text": [
      "[]\n"
     ]
    }
   ],
   "source": [
    "#再次檢視cell版本\n",
    "cells = table.cells(b'machine1', column=b'cf1:temperature')\n",
    "print(cells)"
   ]
  },
  {
   "cell_type": "code",
   "execution_count": 74,
   "id": "2f9f7ea1",
   "metadata": {},
   "outputs": [
    {
     "name": "stdout",
     "output_type": "stream",
     "text": [
      "[b'39.5', b'36.5', b'36.5']\n"
     ]
    }
   ],
   "source": [
    "#通過引數來檢索前n個版本\n",
    "cells = table.cells(b'machine1', column=b'cf1:temperature', versions=3)\n",
    "print(cells)"
   ]
  },
  {
   "cell_type": "code",
   "execution_count": 75,
   "id": "c5ea8fc1",
   "metadata": {},
   "outputs": [],
   "source": [
    "#刪除整行資料\n",
    "table.delete('machine1')"
   ]
  },
  {
   "cell_type": "code",
   "execution_count": 76,
   "id": "2121d801",
   "metadata": {},
   "outputs": [],
   "source": [
    "#刪除一個cf資料\n",
    "table.delete('machine2', columns=[b'cf1'])"
   ]
  },
  {
   "cell_type": "code",
   "execution_count": 80,
   "id": "a047279d",
   "metadata": {},
   "outputs": [],
   "source": [
    "#刪除一個cf多個資料\n",
    "table.delete('machine7', columns=[b'cf1:temperature',b'cf2:current'])"
   ]
  },
  {
   "cell_type": "code",
   "execution_count": 81,
   "id": "0d2d5a33",
   "metadata": {},
   "outputs": [
    {
     "name": "stdout",
     "output_type": "stream",
     "text": [
      "b'machine3' {b'cf1:humidity': b'57', b'cf1:temperature': b'36.8', b'cf1:vibration': b'289'}\n",
      "b'machine4' {b'cf2:current': b'6', b'cf2:voltage': b'220'}\n",
      "b'machine6' {b'cf1:temperature': b'37', b'cf2:current': b'8', b'cf2:humidity': b'55'}\n",
      "b'machine7' {b'cf2:humidity': b'45', b'cf2:voltage': b'110'}\n"
     ]
    }
   ],
   "source": [
    "#查看\n",
    "for key, value in table.scan():\n",
    "    print(key, value)"
   ]
  },
  {
   "cell_type": "code",
   "execution_count": 88,
   "id": "ee66c690",
   "metadata": {},
   "outputs": [],
   "source": [
    "connection.close()"
   ]
  },
  {
   "cell_type": "code",
   "execution_count": null,
   "id": "a915b826",
   "metadata": {},
   "outputs": [],
   "source": []
  }
 ],
 "metadata": {
  "kernelspec": {
   "display_name": "Python 3",
   "language": "python",
   "name": "python3"
  },
  "language_info": {
   "codemirror_mode": {
    "name": "ipython",
    "version": 3
   },
   "file_extension": ".py",
   "mimetype": "text/x-python",
   "name": "python",
   "nbconvert_exporter": "python",
   "pygments_lexer": "ipython3",
   "version": "3.9.5"
  }
 },
 "nbformat": 4,
 "nbformat_minor": 5
}
